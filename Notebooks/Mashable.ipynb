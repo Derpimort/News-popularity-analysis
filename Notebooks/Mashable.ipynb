{
 "cells": [
  {
   "cell_type": "code",
   "execution_count": 35,
   "metadata": {},
   "outputs": [],
   "source": [
    "import os\n",
    "import pandas as pd\n",
    "import numpy as np\n",
    "import umap\n",
    "\n",
    "pd.set_option('display.max_rows',200)\n",
    "pd.set_option('display.max_columns',200)\n",
    "pd.set_option('display.width',200)\n",
    "\n",
    "DATA_DIR=\"Data/OnlineNewsPopularity/\""
   ]
  },
  {
   "cell_type": "code",
   "execution_count": 18,
   "metadata": {},
   "outputs": [],
   "source": [
    "meta=pd.read_csv(\"Articles_meta.csv\")\n",
    "embs=np.load(\"infersent_embs.npy\")\n",
    "scores=pd.read_csv(\"readability.csv\")"
   ]
  },
  {
   "cell_type": "markdown",
   "metadata": {},
   "source": [
    "## For infersent models"
   ]
  },
  {
   "cell_type": "code",
   "execution_count": 19,
   "metadata": {},
   "outputs": [
    {
     "data": {
      "text/plain": [
       "(39606, 4145)"
      ]
     },
     "execution_count": 19,
     "metadata": {},
     "output_type": "execute_result"
    }
   ],
   "source": [
    "df=pd.read_csv(DATA_DIR+\"OnlineNewsPopularity.csv\")\n",
    "to_remove=[\" timedelta\", \n",
    "#     \" data_channel_is_lifestyle\",\n",
    "#     \" data_channel_is_entertainment\",\n",
    "#     \" data_channel_is_bus\",\n",
    "#     \" data_channel_is_socmed\",\n",
    "#     \" data_channel_is_tech\",\n",
    "#     \" data_channel_is_world\",\n",
    "    \" kw_min_min\",\n",
    "    \" kw_max_min\",\n",
    "    \" kw_avg_min\",\n",
    "    \" kw_min_max\",\n",
    "    \" kw_max_max\",\n",
    "    \" kw_avg_max\",\n",
    "    \" kw_min_avg\",\n",
    "    \" kw_max_avg\",\n",
    "    \" kw_avg_avg\",\n",
    "    ' self_reference_min_shares',\n",
    "    ' self_reference_max_shares',\n",
    "    ' self_reference_avg_sharess',]\n",
    "#     \" LDA_00\",\n",
    "#     \" LDA_01\",\n",
    "#     \" LDA_02\",\n",
    "#     \" LDA_03\",\n",
    "#     \" LDA_04\"]\n",
    "df=df.drop(to_remove, axis=1)\n",
    "df[' shares']=(df[' shares']>=1400).astype(int)\n",
    "meta=meta.dropna()\n",
    "df=df[df['url'].isin(meta['url'])].reset_index(drop=True)\n",
    "df_y=df[' shares'].values\n",
    "\n",
    "df_X=df.drop(['url', ' shares'], axis=1)\n",
    "cols=df_X.columns.tolist()+scores.iloc[:,1:].columns.tolist()+[str(i) for i in range(25)]\n",
    "df_X=np.concatenate([df_X, scores.iloc[:,1:].values, embs], axis=1)\n",
    "df_X.shape"
   ]
  },
  {
   "cell_type": "markdown",
   "metadata": {},
   "source": [
    "## For custom preprocessed + readability models"
   ]
  },
  {
   "cell_type": "code",
   "execution_count": 36,
   "metadata": {},
   "outputs": [
    {
     "data": {
      "text/plain": [
       "(39585, 46)"
      ]
     },
     "execution_count": 36,
     "metadata": {},
     "output_type": "execute_result"
    }
   ],
   "source": [
    "# df_new=pd.read_csv(\"df_preprocessed.csv\")\n",
    "# df=pd.read_csv(DATA_DIR+\"OnlineNewsPopularity.csv\")\n",
    "# readability=pd.read_csv(\"readability.csv\")\n",
    "# df=df_new.merge(df[['url', ' LDA_00', ' LDA_01', ' LDA_02', ' LDA_03', ' LDA_04', ' shares']] ,\n",
    "# #                     \" data_channel_is_lifestyle\",\n",
    "# #                     \" data_channel_is_entertainment\",\n",
    "# #                     \" data_channel_is_bus\",\n",
    "# #                     \" data_channel_is_socmed\",\n",
    "# #                     \" data_channel_is_tech\",\n",
    "# #                     \" data_channel_is_world\"]], \n",
    "#                 on='url')\n",
    "# df=df.merge(readability, on='url')\n",
    "\n",
    "# df_y=(df[' shares']>=1400).astype(int).values\n",
    "# df_X=df.drop(['url', ' shares'], axis=1).values\n",
    "# df_X.shape"
   ]
  },
  {
   "cell_type": "markdown",
   "metadata": {},
   "source": [
    "## Original raw dataset"
   ]
  },
  {
   "cell_type": "code",
   "execution_count": 8,
   "metadata": {},
   "outputs": [
    {
     "data": {
      "text/plain": [
       "(39644, 59)"
      ]
     },
     "execution_count": 8,
     "metadata": {},
     "output_type": "execute_result"
    }
   ],
   "source": [
    "# df=pd.read_csv(DATA_DIR+\"OnlineNewsPopularity.csv\")\n",
    "\n",
    "# df_y=(df[' shares']>=1400).astype(int).values\n",
    "# df_X=df.drop(['url', ' shares'], axis=1).values\n",
    "# df_X.shape"
   ]
  },
  {
   "cell_type": "code",
   "execution_count": 20,
   "metadata": {},
   "outputs": [],
   "source": [
    "del embs\n",
    "del meta\n",
    "del df\n",
    "del scores"
   ]
  },
  {
   "cell_type": "code",
   "execution_count": 21,
   "metadata": {},
   "outputs": [
    {
     "data": {
      "text/plain": [
       "192"
      ]
     },
     "execution_count": 21,
     "metadata": {},
     "output_type": "execute_result"
    }
   ],
   "source": [
    "import gc\n",
    "gc.collect()"
   ]
  },
  {
   "cell_type": "code",
   "execution_count": 22,
   "metadata": {},
   "outputs": [],
   "source": [
    "from sklearn.model_selection import train_test_split\n",
    "\n",
    "ptrain_X, ptest_X, train_y, test_y=train_test_split(df_X, df_y, test_size=0.2, random_state=169, shuffle=True)\n",
    "del df_X, df_y\n",
    "dim_red=umap.UMAP(n_neighbors=20, min_dist=0.25, n_components=25, metric='cosine')\n",
    "dim_red=dim_red.fit(ptrain_X[:,:-4096])"
   ]
  },
  {
   "cell_type": "code",
   "execution_count": 23,
   "metadata": {},
   "outputs": [
    {
     "data": {
      "text/plain": [
       "34088"
      ]
     },
     "execution_count": 23,
     "metadata": {},
     "output_type": "execute_result"
    }
   ],
   "source": [
    "gc.collect()\n",
    "train_X=np.concatenate([ptrain_X[:,:-4096], dim_red.transform(ptrain_X[:,-4096:])], axis=1)\n",
    "del ptrain_X\n",
    "gc.collect()"
   ]
  },
  {
   "cell_type": "code",
   "execution_count": 24,
   "metadata": {},
   "outputs": [
    {
     "data": {
      "text/plain": [
       "36154"
      ]
     },
     "execution_count": 24,
     "metadata": {},
     "output_type": "execute_result"
    }
   ],
   "source": [
    "test_X=np.concatenate([ptest_X[:,:-4096], dim_red.transform(ptest_X[:,-4096:])], axis=1)\n",
    "del ptest_X\n",
    "gc.collect()"
   ]
  },
  {
   "cell_type": "code",
   "execution_count": 37,
   "metadata": {},
   "outputs": [],
   "source": [
    "# from sklearn.model_selection import train_test_split\n",
    "\n",
    "# train_X, test_X, train_y, test_y=train_test_split(df_X, df_y, test_size=0.2, random_state=169, shuffle=True)"
   ]
  },
  {
   "cell_type": "code",
   "execution_count": null,
   "metadata": {},
   "outputs": [],
   "source": [
    "from sklearn.metrics import classification_report, accuracy_score\n",
    "from sklearn.neural_network import MLPClassifier\n",
    "from sklearn.tree import DecisionTreeClassifier\n",
    "from sklearn.ensemble import RandomForestClassifier\n",
    "from sklearn.linear_model import LogisticRegression\n",
    "from xgboost import XGBClassifier\n",
    "\n",
    "\n",
    "def checkdir(dirname):\n",
    "    if not os.path.exists(dirname):\n",
    "        os.makedirs(dirname)\n",
    "\n",
    "def evaluate(clf, test_X, test_y, preds=None):\n",
    "    if preds is None:\n",
    "        preds=clf.predict(test_X)\n",
    "    acc=accuracy_score(test_y, preds)\n",
    "    print(classification_report(test_y, preds))\n",
    "    print(\"Accuracy:\",acc)\n",
    "    return accuracy_score(test_y, preds)\n",
    "\n",
    "\n",
    "classifiers = []\n",
    "\n",
    "classifiers+=[[LogisticRegression(max_iter=500), \"Log\"]]\n",
    "classifiers+=[[DecisionTreeClassifier(max_depth=4),\"CART\"]]\n",
    "classifiers+=[[RandomForestClassifier(max_depth=4, n_estimators=200),\"RF\"]]\n",
    "classifiers+=[[MLPClassifier(alpha=1, max_iter=1000),\"MLP\"]]\n",
    "classifiers+=[[XGBClassifier(n_estimators=32, max_depth=5, learning_rate=0.1, n_jobs=4), \"XGBoost\"]]\n",
    "\n",
    "for clf, clfN in classifiers:\n",
    "    clf.fit(train_X,train_y)\n",
    "    print(\"\\n\"+clfN)\n",
    "    evaluate(clf, test_X, test_y)"
   ]
  },
  {
   "cell_type": "code",
   "execution_count": 17,
   "metadata": {},
   "outputs": [],
   "source": [
    "import pickle\n",
    "classifiers[-1][0].save_model(\"models/xgb.model\")\n"
   ]
  },
  {
   "cell_type": "code",
   "execution_count": 21,
   "metadata": {},
   "outputs": [],
   "source": [
    "with open(\"models/xgb.model\", 'wb') as f:\n",
    "    f.write(pickle.dumps(classifiers[-1][0]))\n",
    "    \n",
    "with open(\"models/rf.model\", 'wb') as f:\n",
    "    f.write(pickle.dumps(classifiers[-3][0]))"
   ]
  },
  {
   "cell_type": "code",
   "execution_count": 26,
   "metadata": {},
   "outputs": [
    {
     "name": "stdout",
     "output_type": "stream",
     "text": [
      "              precision    recall  f1-score   support\n",
      "\n",
      "           0       0.62      0.54      0.58      3783\n",
      "           1       0.62      0.69      0.66      4134\n",
      "\n",
      "    accuracy                           0.62      7917\n",
      "   macro avg       0.62      0.62      0.62      7917\n",
      "weighted avg       0.62      0.62      0.62      7917\n",
      "\n",
      "Accuracy: 0.6205633447012757\n"
     ]
    },
    {
     "data": {
      "text/plain": [
       "0.6205633447012757"
      ]
     },
     "execution_count": 26,
     "metadata": {},
     "output_type": "execute_result"
    }
   ],
   "source": [
    "xgb=pickle.load(open(\"models/xgb.model\",\"rb\"))\n",
    "evaluate(xgb,test_X, test_y)"
   ]
  },
  {
   "cell_type": "markdown",
   "metadata": {},
   "source": [
    "# Initial Results"
   ]
  },
  {
   "cell_type": "raw",
   "metadata": {},
   "source": [
    "KNN15\n",
    "              precision    recall  f1-score   support\n",
    "\n",
    "           0       0.55      0.54      0.55      3662\n",
    "           1       0.61      0.62      0.62      4267\n",
    "\n",
    "    accuracy                           0.58      7929\n",
    "   macro avg       0.58      0.58      0.58      7929\n",
    "weighted avg       0.58      0.58      0.58      7929\n",
    "\n",
    "Accuracy: 0.58418463866818\n",
    "\n",
    "Log\n",
    "              precision    recall  f1-score   support\n",
    "\n",
    "           0       0.57      0.53      0.55      3662\n",
    "           1       0.62      0.66      0.64      4267\n",
    "\n",
    "    accuracy                           0.60      7929\n",
    "   macro avg       0.60      0.60      0.60      7929\n",
    "weighted avg       0.60      0.60      0.60      7929\n",
    "\n",
    "Accuracy: 0.6004540295119183\n",
    "\n",
    "CART\n",
    "              precision    recall  f1-score   support\n",
    "\n",
    "           0       0.62      0.58      0.60      3662\n",
    "           1       0.66      0.70      0.68      4267\n",
    "\n",
    "    accuracy                           0.64      7929\n",
    "   macro avg       0.64      0.64      0.64      7929\n",
    "weighted avg       0.64      0.64      0.64      7929\n",
    "\n",
    "Accuracy: 0.6430823559086897\n",
    "\n",
    "RF\n",
    "              precision    recall  f1-score   support\n",
    "\n",
    "           0       0.65      0.55      0.59      3662\n",
    "           1       0.66      0.75      0.70      4267\n",
    "\n",
    "    accuracy                           0.66      7929\n",
    "   macro avg       0.66      0.65      0.65      7929\n",
    "weighted avg       0.66      0.66      0.65      7929\n",
    "\n",
    "Accuracy: 0.6564510026485055\n",
    "\n",
    "GBoost\n",
    "              precision    recall  f1-score   support\n",
    "\n",
    "           0       0.66      0.56      0.60      3662\n",
    "           1       0.66      0.75      0.71      4267\n",
    "\n",
    "    accuracy                           0.66      7929\n",
    "   macro avg       0.66      0.65      0.65      7929\n",
    "weighted avg       0.66      0.66      0.66      7929\n",
    "\n",
    "Accuracy: 0.6623786101652163\n",
    "\n"
   ]
  },
  {
   "cell_type": "code",
   "execution_count": 26,
   "metadata": {},
   "outputs": [
    {
     "data": {
      "text/plain": [
       "<matplotlib.axes._subplots.AxesSubplot at 0x7fcc87ad51d0>"
      ]
     },
     "execution_count": 26,
     "metadata": {},
     "output_type": "execute_result"
    },
    {
     "data": {
      "image/png": "[encoded data removed]",
      "text/plain": [
       "<Figure size 432x1080 with 1 Axes>"
      ]
     },
     "metadata": {
      "needs_background": "light"
     },
     "output_type": "display_data"
    }
   ],
   "source": [
    "import matplotlib.pyplot as plt\n",
    "\n",
    "plt.figure(figsize=(6,15))\n",
    "feat_importances = pd.Series(classifiers[-1][0].feature_importances_, index=cols[:79])\n",
    "\n",
    "feat_importances.nlargest(40).plot(kind='barh')"
   ]
  },
  {
   "cell_type": "code",
   "execution_count": null,
   "metadata": {},
   "outputs": [],
   "source": []
  }
 ],
 "metadata": {
  "kernelspec": {
   "display_name": "Python 3",
   "language": "python",
   "name": "python3"
  },
  "language_info": {
   "codemirror_mode": {
    "name": "ipython",
    "version": 3
   },
   "file_extension": ".py",
   "mimetype": "text/x-python",
   "name": "python",
   "nbconvert_exporter": "python",
   "pygments_lexer": "ipython3",
   "version": "3.7.6"
  }
 },
 "nbformat": 4,
 "nbformat_minor": 4
}
