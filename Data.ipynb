{
 "cells": [
  {
   "cell_type": "code",
   "execution_count": null,
   "metadata": {},
   "outputs": [],
   "source": [
    "import requests\n",
    "from bs4 import BeautifulSoup\n",
    "import os\n",
    "import sys\n",
    "from urllib.parse import urlparse, urljoin\n",
    "import numpy as np\n",
    "import pandas as pd\n",
    "from tqdm.auto import tqdm\n",
    "\n",
    "\n",
    "pd.set_option(\"max_columns\",100)\n",
    "\n",
    "DATA_DIR=\"./Data/OnlineNewsPopularity/\""
   ]
  },
  {
   "cell_type": "code",
   "execution_count": null,
   "metadata": {},
   "outputs": [],
   "source": [
    "news_df=pd.read_csv(DATA_DIR+\"OnlineNewsPopularity.csv\")\n",
    "news_df.info()"
   ]
  },
  {
   "cell_type": "code",
   "execution_count": null,
   "metadata": {},
   "outputs": [],
   "source": [
    "news_df.head()"
   ]
  },
  {
   "cell_type": "code",
   "execution_count": null,
   "metadata": {},
   "outputs": [],
   "source": [
    "news_df['url'][:13214].to_csv(\"first.csv\", index_label='ID')\n",
    "news_df['url'][13214:26428].to_csv(\"second.csv\", index_label='ID')\n",
    "news_df['url'][26428:].to_csv(\"third.csv\", index_label='ID')"
   ]
  },
  {
   "cell_type": "code",
   "execution_count": null,
   "metadata": {},
   "outputs": [],
   "source": [
    "loop=tqdm(pd.read_csv(\"second.csv\").values[:10])\n",
    "\n",
    "for ID,url in loop:\n",
    "    print(ID, url)"
   ]
  },
  {
   "cell_type": "markdown",
   "metadata": {},
   "source": [
    "## Consistent filenames and url index"
   ]
  },
  {
   "cell_type": "code",
   "execution_count": null,
   "metadata": {},
   "outputs": [],
   "source": [
    "l=[]\n",
    "l+=[pd.read_csv(\"first.csv\")]\n",
    "l+=[pd.read_csv(\"second.csv\")]\n",
    "l+=[pd.read_csv(\"third.csv\")]\n",
    "\n",
    "files_df=pd.concat(l, ignore_index=True)\n",
    "files_df['ID']=files_df['ID'].astype(str)+\".html\"\n",
    "files_df.head()"
   ]
  },
  {
   "cell_type": "code",
   "execution_count": null,
   "metadata": {},
   "outputs": [],
   "source": [
    "files_df.info()"
   ]
  },
  {
   "cell_type": "code",
   "execution_count": null,
   "metadata": {},
   "outputs": [],
   "source": [
    "files_df.to_csv(DATA_DIR+\"files.csv\", index=False, header=['file', 'url'])"
   ]
  },
  {
   "cell_type": "code",
   "execution_count": null,
   "metadata": {},
   "outputs": [],
   "source": [
    "files_df=pd.read_csv(DATA_DIR+\"files.csv\")\n",
    "files_df['file']=DATA_DIR+\"mashable/\"+files_df['file']\n",
    "files_df.head()"
   ]
  },
  {
   "cell_type": "markdown",
   "metadata": {},
   "source": [
    "# Check all titles"
   ]
  },
  {
   "cell_type": "code",
   "execution_count": null,
   "metadata": {},
   "outputs": [],
   "source": [
    "loop=tqdm(files_df.values)\n",
    "headlines=[]\n",
    "for file, url in loop:\n",
    "    try:\n",
    "        with open(file,'r') as f:\n",
    "            soup=BeautifulSoup(f.read(), 'lxml')\n",
    "            x=soup.find(\"meta\",{\"property\":\"og:title\"})\n",
    "            if x is not None:\n",
    "                headlines+=[x['content']]\n",
    "            else:\n",
    "                headlines+=[None]\n",
    "                print(\"No title\", url, file)\n",
    "    except Exception as e:\n",
    "        print(url, file, e)\n",
    "        print()"
   ]
  },
  {
   "cell_type": "code",
   "execution_count": 2,
   "metadata": {},
   "outputs": [],
   "source": [
    "def getMeta(soup, *args):\n",
    "    l=[]\n",
    "    for arg in args:\n",
    "        x=soup.find(\"meta\", arg)\n",
    "        if x is not None:\n",
    "            l.append(x['content'])\n",
    "        else:\n",
    "            print(\"No %s\"%arg['property'], url, file)\n",
    "            l.append(None)\n",
    "    return l"
   ]
  },
  {
   "cell_type": "markdown",
   "metadata": {},
   "source": [
    "## All meta except body"
   ]
  },
  {
   "cell_type": "code",
   "execution_count": null,
   "metadata": {},
   "outputs": [],
   "source": [
    "from io import StringIO\n",
    "from csv import writer \n",
    "import pandas as pd\n",
    "\n",
    "loop=tqdm(files_df.values)\n",
    "output = StringIO()\n",
    "csv_writer = writer(output)\n",
    "csv_writer.writerow([\"url\", \"Title\", \"Keywords\", \"Description\", \"Author\", \"Published\"])\n",
    "\n",
    "\n",
    "for file, url in loop:\n",
    "    # URL, Title, Keywords, Desc, Author, Publish Time\n",
    "    row=[url]\n",
    "    with open(file,'r') as f:\n",
    "        cont=f.read()\n",
    "        if cont.find(\"Access Denied\")!=-1 or cont.find(\"We couldn't find the page you were looking for.\")!=-1:\n",
    "            row+=[None, None, None, None]\n",
    "        else:    \n",
    "            soup=BeautifulSoup(cont, 'lxml')\n",
    "            row+=getMeta(soup, \n",
    "                       {\"property\":\"og:title\"}, \n",
    "                       {\"name\":\"keywords\"},\n",
    "                       {\"property\":\"og:description\"},\n",
    "                       {\"name\":\"sailthru.author\"},\n",
    "                       {\"property\":\"og:article:published_time\"})\n",
    "            \n",
    "        csv_writer.writerow(row)\n",
    "\n",
    "output.seek(0)\n",
    "df = pd.read_csv(output)\n",
    "df"
   ]
  },
  {
   "cell_type": "code",
   "execution_count": 5,
   "metadata": {},
   "outputs": [
    {
     "name": "stdout",
     "output_type": "stream",
     "text": [
      "False    39644\n",
      "Name: url, dtype: int64\n",
      "False    39606\n",
      "True        38\n",
      "Name: Title, dtype: int64\n",
      "False    39606\n",
      "True        38\n",
      "Name: Keywords, dtype: int64\n",
      "False    39606\n",
      "True        38\n",
      "Name: Description, dtype: int64\n",
      "False    39606\n",
      "True        38\n",
      "Name: Author, dtype: int64\n",
      "False    39606\n",
      "True        38\n",
      "Name: Published, dtype: int64\n"
     ]
    }
   ],
   "source": [
    "for i in df:\n",
    "    print(df[i].isnull().value_counts())"
   ]
  },
  {
   "cell_type": "code",
   "execution_count": 21,
   "metadata": {},
   "outputs": [],
   "source": [
    "df.to_csv(\"Articles_meta.csv\", index=False)"
   ]
  },
  {
   "cell_type": "markdown",
   "metadata": {},
   "source": [
    "## Df body content"
   ]
  },
  {
   "cell_type": "code",
   "execution_count": null,
   "metadata": {},
   "outputs": [],
   "source": [
    "import json\n",
    "\n",
    "\n",
    "from io import StringIO\n",
    "from csv import writer \n",
    "import pandas as pd\n",
    "\n",
    "loop=tqdm(files_df.values)\n",
    "output = StringIO()\n",
    "csv_writer = writer(output)\n",
    "csv_writer.writerow([\"url\", \"Body\"])\n",
    "\n",
    "\n",
    "for file, url in loop:\n",
    "    # URL, Title, Keywords, Desc, Author, Publish Time\n",
    "    row=[url]\n",
    "    with open(file,'r') as f:\n",
    "        cont=f.read()\n",
    "        if cont.find(\"Access Denied\")!=-1 or cont.find(\"We couldn't find the page you were looking for.\")!=-1:\n",
    "            row+=[None]\n",
    "        else:    \n",
    "            soup=BeautifulSoup(cont, 'lxml')\n",
    "            x=soup.find(\"script\", {\"type\":\"application/ld+json\"}).string\n",
    "            if x is not None:\n",
    "                row+=[json.loads(x)['articleBody']]\n",
    "            else:\n",
    "                print(url, file, \"Bad article body\")\n",
    "                row+=None\n",
    "        csv_writer.writerow(row)\n",
    "\n",
    "output.seek(0)\n",
    "df_body = pd.read_csv(output)\n",
    "df_body"
   ]
  },
  {
   "cell_type": "code",
   "execution_count": 43,
   "metadata": {},
   "outputs": [],
   "source": [
    "df_body.to_csv(\"Articles_body.csv\", index=False)"
   ]
  },
  {
   "cell_type": "markdown",
   "metadata": {},
   "source": [
    "## Readability scores"
   ]
  },
  {
   "cell_type": "code",
   "execution_count": 7,
   "metadata": {},
   "outputs": [],
   "source": [
    "import numpy as np\n",
    "import pandas as pd\n",
    "from tqdm.auto import tqdm\n",
    "\n",
    "\n",
    "pd.set_option(\"max_columns\",100)\n",
    "\n",
    "DATA_DIR=\"./Data/OnlineNewsPopularity/\""
   ]
  },
  {
   "cell_type": "code",
   "execution_count": 8,
   "metadata": {},
   "outputs": [],
   "source": [
    "df_body=pd.read_csv(\"Articles_body.csv\")\n",
    "df_body=df_body.dropna()"
   ]
  },
  {
   "cell_type": "code",
   "execution_count": 12,
   "metadata": {},
   "outputs": [
    {
     "name": "stdout",
     "output_type": "stream",
     "text": [
      "INFO: Pandarallel will run on 4 workers.\n",
      "INFO: Pandarallel will use Memory file system to transfer data between the main process and workers.\n"
     ]
    }
   ],
   "source": [
    "from pandarallel import pandarallel\n",
    "from readability.readability import Readability\n",
    "\n",
    "\n",
    "pandarallel.initialize()\n",
    "\n",
    "def get_readability(row):\n",
    "    rd=Readability(row.Body)\n",
    "    return row.url,rd.ARI(),rd.FleschReadingEase(),rd.FleschKincaidGradeLevel(),rd.GunningFogIndex(),rd.SMOGIndex(),rd.ColemanLiauIndex(),rd.LIX(),rd.RIX()\n",
    "\n",
    "scores=df_body.parallel_apply(get_readability, axis=1, result_type='expand')"
   ]
  },
  {
   "cell_type": "code",
   "execution_count": 14,
   "metadata": {},
   "outputs": [],
   "source": [
    "scores.columns=['url', \n",
    "                'ARI', \n",
    "                'FleschReadingEase', \n",
    "                'FleschKincaidGradeLevel', \n",
    "                'GunningFogIndex', \n",
    "                'SMOGIndex', \n",
    "                'ColemanLiauIndex', \n",
    "                'LIX', \n",
    "                'RIX']"
   ]
  },
  {
   "cell_type": "code",
   "execution_count": 19,
   "metadata": {},
   "outputs": [
    {
     "data": {
      "text/plain": [
       "<matplotlib.axes._subplots.AxesSubplot at 0x7fb63fec7950>"
      ]
     },
     "execution_count": 19,
     "metadata": {},
     "output_type": "execute_result"
    },
    {
     "data": {
      "image/png": "[encoded data removed]",
      "text/plain": [
       "<Figure size 792x648 with 2 Axes>"
      ]
     },
     "metadata": {
      "needs_background": "light"
     },
     "output_type": "display_data"
    }
   ],
   "source": [
    "import seaborn as sns\n",
    "import matplotlib.pyplot as plt\n",
    "\n",
    "corr = scores.iloc[:,1:].corr()\n",
    "mask = np.triu(np.ones_like(corr, dtype=np.bool))\n",
    "f, ax = plt.subplots(figsize=(11, 9))\n",
    "cmap = sns.diverging_palette(220, 10, as_cmap=True)\n",
    "sns.heatmap(corr, mask=mask, cmap=cmap, vmax=.3, center=0,\n",
    "            square=True, linewidths=.5, cbar_kws={\"shrink\": .5})"
   ]
  },
  {
   "cell_type": "code",
   "execution_count": 21,
   "metadata": {},
   "outputs": [],
   "source": [
    "scores.to_csv(\"readability.csv\", index=False)"
   ]
  },
  {
   "cell_type": "code",
   "execution_count": null,
   "metadata": {},
   "outputs": [],
   "source": []
  }
 ],
 "metadata": {
  "kernelspec": {
   "display_name": "Python 3",
   "language": "python",
   "name": "python3"
  },
  "language_info": {
   "codemirror_mode": {
    "name": "ipython",
    "version": 3
   },
   "file_extension": ".py",
   "mimetype": "text/x-python",
   "name": "python",
   "nbconvert_exporter": "python",
   "pygments_lexer": "ipython3",
   "version": "3.7.6"
  }
 },
 "nbformat": 4,
 "nbformat_minor": 4
}
